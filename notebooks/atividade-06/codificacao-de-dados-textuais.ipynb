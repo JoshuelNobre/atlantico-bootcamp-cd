{
 "cells": [
  {
   "cell_type": "markdown",
   "id": "4aad17c2-2880-41c7-9d69-d3635cb5182b",
   "metadata": {},
   "source": [
    "# Codificação de variáveis textuais"
   ]
  },
  {
   "cell_type": "markdown",
   "id": "24d2191f-23d1-47a9-8afa-64bd9ae28cbe",
   "metadata": {},
   "source": [
    "### Imports"
   ]
  },
  {
   "cell_type": "code",
   "execution_count": 1,
   "id": "927a52e6-c304-43f0-a734-86522e141ed5",
   "metadata": {},
   "outputs": [],
   "source": [
    "import pandas as pd\n",
    "from sklearn.feature_extraction.text import CountVectorizer"
   ]
  },
  {
   "cell_type": "markdown",
   "id": "b7df4e01-f379-4373-a47c-01129593a9a9",
   "metadata": {},
   "source": [
    "### Frases que irei mesclar para formar outras frases\n",
    "    frases = [\n",
    "        \"John likes\",\n",
    "        \"likes to\",\n",
    "        \"to watch\",\n",
    "        \"watch movies\",\n",
    "        \"Mary likes\",\n",
    "        \"likes movies\",\n",
    "        \"movies too\",\n",
    "    ]"
   ]
  },
  {
   "cell_type": "markdown",
   "id": "dafb231b-24e7-40b8-bf78-f12dd6e1198f",
   "metadata": {
    "tags": []
   },
   "source": [
    "### Bag-of-words"
   ]
  },
  {
   "cell_type": "code",
   "execution_count": 2,
   "id": "eeacf38e-b786-4ed0-b8e1-375190c2d602",
   "metadata": {},
   "outputs": [],
   "source": [
    "frases = [\n",
    "    \"John likes watch movies. Mary likes to watch movies too\",\n",
    "    \"Mary likes watch movies\",\n",
    "    \"John likes to watch\"\n",
    "]"
   ]
  },
  {
   "cell_type": "markdown",
   "id": "0d07032c-9035-4609-a1b5-3b7a2329ab20",
   "metadata": {},
   "source": [
    "##### Para ficar mais fácil de chamar irei criar a variável"
   ]
  },
  {
   "cell_type": "code",
   "execution_count": 3,
   "id": "a67dbb04-013e-4383-b7cd-386ac9e4752b",
   "metadata": {},
   "outputs": [],
   "source": [
    "CountVec = CountVectorizer()"
   ]
  },
  {
   "cell_type": "markdown",
   "id": "7582986d-9bbe-47c8-a8a4-95bdff4d6979",
   "metadata": {},
   "source": [
    "##### Converte uma coleção de documentos de texto em uma matriz de contagens de token e padroniza o conjunto de dados\n"
   ]
  },
  {
   "cell_type": "code",
   "execution_count": 4,
   "id": "b09005d0-7f1e-453d-a785-f7f4a8c7c304",
   "metadata": {},
   "outputs": [],
   "source": [
    "bag_of_words = CountVec.fit_transform(frases)"
   ]
  },
  {
   "cell_type": "markdown",
   "id": "8b736a25-70d7-448a-b477-52d06b68a3b1",
   "metadata": {},
   "source": [
    "##### É transformada em uma matriz esparsa, que é uma matriz cheia de zeros"
   ]
  },
  {
   "cell_type": "code",
   "execution_count": 5,
   "id": "fe6dea15-a661-4923-97be-d2671cdfeaf6",
   "metadata": {},
   "outputs": [
    {
     "data": {
      "text/plain": [
       "<3x7 sparse matrix of type '<class 'numpy.int64'>'\n",
       "\twith 15 stored elements in Compressed Sparse Row format>"
      ]
     },
     "execution_count": 5,
     "metadata": {},
     "output_type": "execute_result"
    }
   ],
   "source": [
    "bag_of_words"
   ]
  },
  {
   "cell_type": "markdown",
   "id": "0269a2bd-9748-4a2b-a270-d1285797c8e7",
   "metadata": {},
   "source": [
    "##### Vou transformar em uma DataFrame, entretanto o pd.DataFrame interpreta uma matriz esparsa. \n",
    "##### Vou transformar em um array.\n",
    "##### Em columns eu uso a função \"get_feature_names_out\" para pegar os nomes de saida"
   ]
  },
  {
   "cell_type": "code",
   "execution_count": 6,
   "id": "b90ecd3e-af78-46b4-92ce-ac8c370178db",
   "metadata": {},
   "outputs": [
    {
     "data": {
      "text/html": [
       "<div>\n",
       "<style scoped>\n",
       "    .dataframe tbody tr th:only-of-type {\n",
       "        vertical-align: middle;\n",
       "    }\n",
       "\n",
       "    .dataframe tbody tr th {\n",
       "        vertical-align: top;\n",
       "    }\n",
       "\n",
       "    .dataframe thead th {\n",
       "        text-align: right;\n",
       "    }\n",
       "</style>\n",
       "<table border=\"1\" class=\"dataframe\">\n",
       "  <thead>\n",
       "    <tr style=\"text-align: right;\">\n",
       "      <th></th>\n",
       "      <th>john</th>\n",
       "      <th>likes</th>\n",
       "      <th>mary</th>\n",
       "      <th>movies</th>\n",
       "      <th>to</th>\n",
       "      <th>too</th>\n",
       "      <th>watch</th>\n",
       "    </tr>\n",
       "  </thead>\n",
       "  <tbody>\n",
       "    <tr>\n",
       "      <th>0</th>\n",
       "      <td>1</td>\n",
       "      <td>2</td>\n",
       "      <td>1</td>\n",
       "      <td>2</td>\n",
       "      <td>1</td>\n",
       "      <td>1</td>\n",
       "      <td>2</td>\n",
       "    </tr>\n",
       "    <tr>\n",
       "      <th>1</th>\n",
       "      <td>0</td>\n",
       "      <td>1</td>\n",
       "      <td>1</td>\n",
       "      <td>1</td>\n",
       "      <td>0</td>\n",
       "      <td>0</td>\n",
       "      <td>1</td>\n",
       "    </tr>\n",
       "    <tr>\n",
       "      <th>2</th>\n",
       "      <td>1</td>\n",
       "      <td>1</td>\n",
       "      <td>0</td>\n",
       "      <td>0</td>\n",
       "      <td>1</td>\n",
       "      <td>0</td>\n",
       "      <td>1</td>\n",
       "    </tr>\n",
       "  </tbody>\n",
       "</table>\n",
       "</div>"
      ],
      "text/plain": [
       "   john  likes  mary  movies  to  too  watch\n",
       "0     1      2     1       2   1    1      2\n",
       "1     0      1     1       1   0    0      1\n",
       "2     1      1     0       0   1    0      1"
      ]
     },
     "execution_count": 6,
     "metadata": {},
     "output_type": "execute_result"
    }
   ],
   "source": [
    "bow = pd.DataFrame(bag_of_words.toarray(), columns=CountVec.get_feature_names_out())\n",
    "bow"
   ]
  },
  {
   "cell_type": "code",
   "execution_count": null,
   "id": "f268ea2c-fb13-4e8b-b76d-45fef3d488b9",
   "metadata": {},
   "outputs": [],
   "source": []
  }
 ],
 "metadata": {
  "kernelspec": {
   "display_name": "Python 3 (ipykernel)",
   "language": "python",
   "name": "python3"
  },
  "language_info": {
   "codemirror_mode": {
    "name": "ipython",
    "version": 3
   },
   "file_extension": ".py",
   "mimetype": "text/x-python",
   "name": "python",
   "nbconvert_exporter": "python",
   "pygments_lexer": "ipython3",
   "version": "3.8.10"
  }
 },
 "nbformat": 4,
 "nbformat_minor": 5
}
